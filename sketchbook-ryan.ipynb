{
 "cells": [
  {
   "cell_type": "code",
   "execution_count": 2,
   "metadata": {},
   "outputs": [],
   "source": [
    "import pandas as pd\n",
    "import numpy as np\n",
    "from pypfopt import risk_models, expected_returns, plotting, EfficientFrontier\n",
    "import matplotlib.pyplot as plt\n",
    "from datetime import date\n",
    "#pypfopt.__version__\n",
    "import quantstats as qs\n",
    "import yfinance as yf\n",
    "import tempfile\n",
    "import plotly.express as px"
   ]
  },
  {
   "cell_type": "markdown",
   "metadata": {},
   "source": [
    "https://medium.com/enjoy-algorithm/pre-processing-of-time-series-data-c50f8a3e7a98\n",
    "\n",
    "https://www.kaggle.com/code/harshalnikose/portfolio-management\n",
    "https://medium.com/cloudcraftz/portfolio-trading-using-pyportfolioopt-24040247249\n"
   ]
  },
  {
   "cell_type": "code",
   "execution_count": 6,
   "metadata": {},
   "outputs": [],
   "source": [
    "def test_ef():\n",
    "    companies = [\"MSFT\", \"AMZN\", \"META\", \"BABA\", \"GE\", \"GOOG\", \"AMD\", \"WMT\", \"BAC\", \"GM\", \"T\", \"UAA\", \"MA\", \"PFE\", \"JPM\", \"SBUX\"]\n",
    "    stock_data = yf.download(companies, start=\"2020-6-01\", end=date.today())\n",
    "    stock_data = stock_data[\"Adj Close\"]\n",
    "    mu2 = expected_returns.mean_historical_return(stock_data)\n",
    "    cov_matrix2 = risk_models.sample_cov(stock_data)\n",
    "    temp_ef = EfficientFrontier(mu2, cov_matrix2)\n",
    "    return temp_ef"
   ]
  },
  {
   "cell_type": "markdown",
   "metadata": {},
   "source": [
    "temp = qs.utils.download_returns(companies)"
   ]
  },
  {
   "cell_type": "code",
   "execution_count": 3,
   "metadata": {},
   "outputs": [],
   "source": [
    "companies = [\"MSFT\", \"AMZN\", \"META\", \"BABA\", \"GE\", \"GOOG\", \"AMD\", \"WMT\", \"BAC\", \"GM\", \"T\", \"UAA\", \"MA\", \"PFE\", \"JPM\", \"SBUX\"]"
   ]
  },
  {
   "cell_type": "code",
   "execution_count": null,
   "metadata": {},
   "outputs": [],
   "source": [
    "stock_data = yf.download(companies, start=\"2020-6-01\", end=date.today())"
   ]
  },
  {
   "cell_type": "code",
   "execution_count": null,
   "metadata": {},
   "outputs": [],
   "source": [
    "stock_data = stock_data[\"Adj Close\"]"
   ]
  },
  {
   "cell_type": "code",
   "execution_count": null,
   "metadata": {},
   "outputs": [],
   "source": [
    "stock_data"
   ]
  },
  {
   "cell_type": "code",
   "execution_count": null,
   "metadata": {},
   "outputs": [],
   "source": [
    "mu2 = expected_returns.mean_historical_return(stock_data)\n",
    "print(mu2)"
   ]
  },
  {
   "cell_type": "code",
   "execution_count": null,
   "metadata": {},
   "outputs": [],
   "source": [
    "stock_data.pct_change()[1:].cumsum().plot()"
   ]
  },
  {
   "cell_type": "code",
   "execution_count": null,
   "metadata": {
    "scrolled": true
   },
   "outputs": [],
   "source": [
    "cov_matrix2 = risk_models.sample_cov(stock_data)\n",
    "print(cov_matrix2)\n",
    "type(cov_matrix2)"
   ]
  },
  {
   "cell_type": "code",
   "execution_count": null,
   "metadata": {
    "scrolled": true
   },
   "outputs": [],
   "source": [
    "plotting.plot_covariance(cov_matrix2, plot_correlation=True)"
   ]
  },
  {
   "cell_type": "code",
   "execution_count": null,
   "metadata": {},
   "outputs": [],
   "source": [
    "ef = EfficientFrontier(mu2, cov_matrix2)\n",
    "ef.max_sharpe()"
   ]
  },
  {
   "cell_type": "code",
   "execution_count": null,
   "metadata": {
    "scrolled": true
   },
   "outputs": [],
   "source": [
    "weights = ef.clean_weights()\n",
    "pd.Series(weights).plot.pie()"
   ]
  },
  {
   "cell_type": "code",
   "execution_count": null,
   "metadata": {},
   "outputs": [],
   "source": [
    "def plot_weights(ef):\n",
    "    ef.max_sharpe()\n",
    "    weights = ef.clean_weights()\n",
    "    df = pd.DataFrame(weights,index=['Weight'])\n",
    "    df = df.T\n",
    "    df = df[df['Weight']!=0] # Remove 0 values\n",
    "    fig = px.pie(df,values='Weight',names=df.index)\n",
    "    return fig"
   ]
  },
  {
   "cell_type": "code",
   "execution_count": null,
   "metadata": {},
   "outputs": [],
   "source": [
    "plot_weights(ef2)"
   ]
  },
  {
   "cell_type": "code",
   "execution_count": 9,
   "metadata": {},
   "outputs": [
    {
     "name": "stdout",
     "output_type": "stream",
     "text": [
      "Expected annual return: 25.4%\n",
      "Annual volatility: 22.1%\n",
      "Sharpe Ratio: 1.06\n"
     ]
    },
    {
     "data": {
      "text/plain": [
       "(0.2535719095254672, 0.2205031405726748, 1.0592679492856707)"
      ]
     },
     "execution_count": 9,
     "metadata": {},
     "output_type": "execute_result"
    }
   ],
   "source": [
    "ef.max_sharpe()\n",
    "ef.portfolio_performance(verbose=True)"
   ]
  },
  {
   "cell_type": "code",
   "execution_count": null,
   "metadata": {},
   "outputs": [],
   "source": [
    "ef = EfficientFrontier(mu2, cov_matrix2, weight_bounds=(None, None))\n",
    "\n",
    "fig, ax = plt.subplots()\n",
    "plotting.plot_efficient_frontier(ef, ax=ax, show_assets=True)\n",
    "plt.show()"
   ]
  },
  {
   "cell_type": "code",
   "execution_count": null,
   "metadata": {},
   "outputs": [],
   "source": [
    "ef = EfficientFrontier(mu2, cov_matrix2, weight_bounds=(None, None))\n",
    "fig, ax = plt.subplots()\n",
    "ef_max_sharpe = ef.deepcopy()\n",
    "\n",
    "\n",
    "# Find the tangency portfolio\n",
    "ef_max_sharpe.max_sharpe()\n",
    "ret_tangent, std_tangent, _ = ef_max_sharpe.portfolio_performance()\n",
    "ax.scatter(std_tangent, ret_tangent, marker=\"*\", s=100, c=\"r\", label=\"Max Sharpe\")\n",
    "\n",
    "# Min Volatility\n",
    "ef_min_vol = ef.deepcopy()\n",
    "ef_min_vol.min_volatility()\n",
    "vol_ret, vol_std, _ = ef_min_vol.portfolio_performance()\n",
    "ax.scatter(vol_std, vol_ret, marker=\"*\", s=100, c=\"g\", label=\"Min Volatility\")\n",
    "\n",
    "plotting.plot_efficient_frontier(ef, ax=ax, show_assets=False)\n",
    "\n",
    "# Generate random portfolios\n",
    "n_samples = 10000\n",
    "w = np.random.dirichlet(np.ones(ef.n_assets), n_samples)\n",
    "rets = w.dot(ef.expected_returns)\n",
    "stds = np.sqrt(np.diag(w @ ef.cov_matrix @ w.T))\n",
    "sharpes = rets / stds\n",
    "ax.scatter(stds, rets, marker=\".\", c=sharpes, cmap=\"viridis_r\")\n",
    "\n",
    "# Output\n",
    "ax.set_title(\"Efficient Frontier with random portfolios\")\n",
    "ax.legend()\n",
    "plt.tight_layout()\n",
    "plt.show()"
   ]
  },
  {
   "cell_type": "code",
   "execution_count": null,
   "metadata": {},
   "outputs": [],
   "source": [
    "def plot_ef_line(\n",
    "    opt,\n",
    "    ef_param=\"return\",\n",
    "    ef_param_range=None,\n",
    "    points=100,\n",
    "    ax=None,\n",
    "    show_assets=True,\n",
    "    show_tickers=False,\n",
    "    **kwargs\n",
    "):\n",
    "\n",
    "    ax = ax or plt.gca()\n",
    "\n",
    "    if isinstance(opt, CLA):\n",
    "        ax = _plot_cla(\n",
    "            opt, points, ax=ax, show_assets=show_assets, show_tickers=show_tickers\n",
    "        )\n",
    "    elif isinstance(opt, EfficientFrontier):\n",
    "        if ef_param_range is None:\n",
    "            ef_param_range = _ef_default_returns_range(opt, points)\n",
    "\n",
    "        ax = _plot_ef(\n",
    "            opt,\n",
    "            ef_param,\n",
    "            ef_param_range,\n",
    "            ax=ax,\n",
    "            show_assets=show_assets,\n",
    "            show_tickers=show_tickers,\n",
    "        )\n",
    "    else:\n",
    "        raise NotImplementedError(\"Please pass EfficientFrontier or CLA object\")\n",
    "\n",
    "    ax.legend()\n",
    "    ax.set_xlabel(\"Volatility\")\n",
    "    ax.set_ylabel(\"Return\")\n",
    "\n",
    "    _plot_io(**kwargs)\n",
    "    return ax\n"
   ]
  },
  {
   "cell_type": "code",
   "execution_count": null,
   "metadata": {},
   "outputs": [],
   "source": [
    "def _plot_ef(ef, ef_param='return', ef_param_range, ax, show_tickers):\n",
    "    \"\"\"\n",
    "    Helper function to plot the efficient frontier from an EfficientFrontier object\n",
    "    \"\"\"\n",
    "    mus, sigmas = [], []\n",
    "\n",
    "    # Create a portfolio for each value of ef_param_range\n",
    "    for param_value in ef_param_range:\n",
    "        try:\n",
    "            if ef_param == \"utility\":\n",
    "                ef.max_quadratic_utility(param_value)\n",
    "            elif ef_param == \"risk\":\n",
    "                ef.efficient_risk(param_value)\n",
    "            elif ef_param == \"return\":\n",
    "                ef.efficient_return(param_value)\n",
    "            else:\n",
    "                raise NotImplementedError(\n",
    "                    \"ef_param should be one of {'utility', 'risk', 'return'}\"\n",
    "                )\n",
    "        except exceptions.OptimizationError:\n",
    "            continue\n",
    "        except ValueError:\n",
    "            warnings.warn(\n",
    "                \"Could not construct portfolio for parameter value {:.3f}\".format(\n",
    "                    param_value\n",
    "                )\n",
    "            )\n",
    "\n",
    "        ret, sigma, _ = ef.portfolio_performance()\n",
    "        mus.append(ret)\n",
    "        sigmas.append(sigma)\n",
    "\n",
    "    ax.plot(sigmas, mus, label=\"Efficient frontier\")\n",
    "\n",
    "    asset_mu = ef.expected_returns\n",
    "    asset_sigma = np.sqrt(np.diag(ef.cov_matrix))\n",
    "    \n",
    "    return ax"
   ]
  },
  {
   "cell_type": "code",
   "execution_count": null,
   "metadata": {},
   "outputs": [],
   "source": [
    "ef = EfficientFrontier(mu2, cov_matrix2, weight_bounds=(None, None))\n",
    "\n",
    "\n",
    "def plot_ef_with_random(ef, n_samples=10000):\n",
    "    fig, ax = plt.subplots()\n",
    "    ef_max_sharpe = ef.deepcopy()\n",
    "    ef_min_vol = ef.deepcopy()\n",
    "\n",
    "    # Find the tangency portfolio\n",
    "    ef_max_sharpe.max_sharpe()\n",
    "    ret_tangent, std_tangent, _ = ef_max_sharpe.portfolio_performance()\n",
    "    ax.scatter(std_tangent, ret_tangent, marker=\"*\", s=100, c=\"r\", label=\"Max Sharpe\")\n",
    "\n",
    "    # Min Volatility\n",
    "    ef_min_vol.min_volatility()\n",
    "    vol_ret, vol_std, _ = ef_min_vol.portfolio_performance()\n",
    "    ax.scatter(vol_std, vol_ret, marker=\"*\", s=100, c=\"g\", label=\"Min Volatility\")\n",
    "\n",
    "\n",
    "    # Generate random portfolios\n",
    "    w = np.random.dirichlet(np.ones(ef.n_assets), n_samples)\n",
    "    rets = w.dot(ef.expected_returns)\n",
    "    stds = np.sqrt(np.diag(w @ ef.cov_matrix @ w.T))\n",
    "    sharpes = rets / stds\n",
    "    ax.scatter(stds, rets, marker=\".\", c=sharpes, cmap=\"viridis_r\")\n",
    "\n",
    "    # Output\n",
    "    plotting.plot_efficient_frontier(ef, ax=ax, show_assets=False)\n",
    "    ax.set_title(\"Efficient Frontier with random portfolios\")\n",
    "    ax.legend()\n",
    "    plt.tight_layout()\n",
    "    \n",
    "    st.pyplot(fig)"
   ]
  },
  {
   "cell_type": "code",
   "execution_count": 2,
   "metadata": {},
   "outputs": [],
   "source": [
    "def plot_ef_with_random(ef, output=None, n_samples=10000):\n",
    "    fig, ax = plt.subplots()\n",
    "    ef_max_sharpe = ef.deepcopy()\n",
    "    ef_min_vol = ef.deepcopy()\n",
    "\n",
    "    # Find the tangency portfolio\n",
    "    ef_max_sharpe.max_sharpe()\n",
    "    ret_tangent, std_tangent, _ = ef_max_sharpe.portfolio_performance()\n",
    "    ax.scatter(std_tangent, ret_tangent, marker=\"*\", s=100, c=\"r\", label=\"Max Sharpe\")\n",
    "\n",
    "    # Min Volatility\n",
    "    ef_min_vol.min_volatility()\n",
    "    vol_ret, vol_std, _ = ef_min_vol.portfolio_performance()\n",
    "    ax.scatter(vol_std, vol_ret, marker=\"*\", s=100, c=\"g\", label=\"Min Volatility\")\n",
    "\n",
    "\n",
    "    # Generate random portfolios\n",
    "    w = np.random.dirichlet(np.ones(ef.n_assets), n_samples)\n",
    "    rets = w.dot(ef.expected_returns)\n",
    "    stds = np.sqrt(np.diag(w @ ef.cov_matrix @ w.T))\n",
    "    sharpes = rets / stds\n",
    "    ax.scatter(stds, rets, marker=\".\", c=sharpes, cmap=\"viridis_r\")\n",
    "\n",
    "    # Output\n",
    "    plotting.plot_efficient_frontier(ef, ax=ax, show_assets=False)\n",
    "    ax.set_title(\"Efficient Frontier with random portfolios\")\n",
    "    ax.legend()\n",
    "    plt.tight_layout()\n",
    "    plt.show()"
   ]
  },
  {
   "cell_type": "code",
   "execution_count": null,
   "metadata": {},
   "outputs": [],
   "source": [
    "def plot_min_volatility(ef):\n",
    "    ef_min_vol = ef.deepcopy()\n",
    "    # Min Volatility\n",
    "    ef_min_vol.min_volatility()\n",
    "    vol_ret, vol_std, _ = ef_min_vol.portfolio_performance()\n",
    "    ax.scatter(vol_std, vol_ret, marker=\"*\", s=100, c=\"g\", label=\"Min Volatility\")\n",
    "    \n",
    "def plot_max_sharpe(ef):\n",
    "    ef_max_sharpe = ef.deepcopy()\n",
    "    # Find the tangency portfolio\n",
    "    ef_max_sharpe.max_sharpe()\n",
    "    ret_tangent, std_tangent, _ = ef_max_sharpe.portfolio_performance()\n",
    "    ax.scatter(std_tangent, ret_tangent, marker=\"*\", s=100, c=\"r\", label=\"Max Sharpe\")"
   ]
  },
  {
   "cell_type": "code",
   "execution_count": null,
   "metadata": {},
   "outputs": [],
   "source": [
    "def plot_ef_with_random(ef, output=None, n_samples=10000):\n",
    "    fig, ax = plt.subplots()\n",
    "    plot_min_volatility(ef)\n",
    "    plot_max_sharpe(ef)\n",
    "\n",
    "\n",
    "    # Generate random portfolios\n",
    "    w = np.random.dirichlet(np.ones(ef.n_assets), n_samples)\n",
    "    rets = w.dot(ef.expected_returns)\n",
    "    stds = np.sqrt(np.diag(w @ ef.cov_matrix @ w.T))\n",
    "    sharpes = rets / stds\n",
    "    ax.scatter(stds, rets, marker=\".\", c=sharpes, cmap=\"viridis_r\")\n",
    "\n",
    "    # Output\n",
    "    plotting.plot_efficient_frontier(ef, ax=ax, show_assets=False)\n",
    "    ax.set_title(\"Efficient Frontier with random portfolios\")\n",
    "    ax.legend()\n",
    "    plt.tight_layout()\n",
    "    plt.show()"
   ]
  },
  {
   "cell_type": "code",
   "execution_count": 4,
   "metadata": {},
   "outputs": [],
   "source": [
    "def plot_weights(ef):\n",
    "    ef2 = ef.deepcopy()\n",
    "    ef2.max_sharpe()\n",
    "    weights = ef2.clean_weights()\n",
    "    df = pd.DataFrame(weights,index=['Weight'])\n",
    "    df = df.T\n",
    "    df = df[df['Weight']!=0] # Remove 0 values\n",
    "    fig = px.pie(df,values='Weight',names=df.index)\n",
    "    return fig"
   ]
  },
  {
   "cell_type": "code",
   "execution_count": 7,
   "metadata": {},
   "outputs": [
    {
     "name": "stdout",
     "output_type": "stream",
     "text": [
      "[*********************100%%**********************]  16 of 16 completed\n"
     ]
    }
   ],
   "source": [
    "ef_o = test_ef()\n",
    "ef = ef_o.deepcopy()"
   ]
  },
  {
   "cell_type": "code",
   "execution_count": 11,
   "metadata": {},
   "outputs": [
    {
     "data": {
      "text/plain": [
       "OrderedDict([('AMD', 0.14639),\n",
       "             ('AMZN', -0.53113),\n",
       "             ('BABA', -0.26261),\n",
       "             ('BAC', -0.72542),\n",
       "             ('GE', 1.0),\n",
       "             ('GM', -0.27946),\n",
       "             ('GOOG', 0.45403),\n",
       "             ('JPM', 1.0),\n",
       "             ('MA', -0.40558),\n",
       "             ('META', -0.08622),\n",
       "             ('MSFT', 0.95007),\n",
       "             ('PFE', -0.21078),\n",
       "             ('SBUX', 0.19913),\n",
       "             ('T', -0.32868),\n",
       "             ('UAA', -0.36941),\n",
       "             ('WMT', 0.44967)])"
      ]
     },
     "execution_count": 11,
     "metadata": {},
     "output_type": "execute_result"
    }
   ],
   "source": [
    "import plotly.graph_objects as go\n",
    "import warnings\n",
    "from pypfopt import EfficientFrontier, exceptions\n",
    "\n",
    "def plot_ef(ef,  ef_param_range):\n",
    "    \"\"\"\n",
    "    Helper function to plot the efficient frontier from an EfficientFrontier object\n",
    "    \"\"\"\n",
    "    mus, sigmas = [], []\n",
    "\n",
    "    # Create a portfolio for each value of ef_param_range\n",
    "    for param_value in ef_param_range:\n",
    "        try:\n",
    "            ef.efficient_return(param_value)\n",
    "        except exceptions.OptimizationError:\n",
    "            continue\n",
    "        except ValueError:\n",
    "            warnings.warn(\n",
    "                \"Could not construct portfolio for parameter value {:.3f}\".format(\n",
    "                    param_value\n",
    "                )\n",
    "            )\n",
    "\n",
    "        ret, sigma, _ = ef.portfolio_performance()\n",
    "        mus.append(ret)\n",
    "        sigmas.append(sigma)\n",
    "\n",
    "    return go.Scatter(x=sigmas, y=mus, mode='lines', name='Efficient Frontier')"
   ]
  }
 ],
 "metadata": {
  "kernelspec": {
   "display_name": "portfolio",
   "language": "python",
   "name": "portfolio"
  },
  "language_info": {
   "codemirror_mode": {
    "name": "ipython",
    "version": 3
   },
   "file_extension": ".py",
   "mimetype": "text/x-python",
   "name": "python",
   "nbconvert_exporter": "python",
   "pygments_lexer": "ipython3",
   "version": "3.8.18"
  }
 },
 "nbformat": 4,
 "nbformat_minor": 2
}
