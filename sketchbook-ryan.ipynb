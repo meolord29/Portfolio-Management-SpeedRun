{
 "cells": [
  {
   "cell_type": "code",
   "execution_count": 1,
   "metadata": {},
   "outputs": [],
   "source": [
    "import pandas as pd\n",
    "import numpy as np\n",
    "from pypfopt import risk_models, expected_returns, plotting, EfficientFrontier\n",
    "import matplotlib.pyplot as plt\n",
    "from datetime import date, timedelta, datetime\n",
    "#pypfopt.__version__\n",
    "import quantstats as qs\n",
    "import yfinance as yf\n",
    "import tempfile\n",
    "import plotly.express as px\n",
    "from bs4 import BeautifulSoup\n",
    "import requests\n",
    "import yesg"
   ]
  },
  {
   "cell_type": "markdown",
   "metadata": {},
   "source": [
    "https://medium.com/enjoy-algorithm/pre-processing-of-time-series-data-c50f8a3e7a98\n",
    "\n",
    "https://www.kaggle.com/code/harshalnikose/portfolio-management\n",
    "https://medium.com/cloudcraftz/portfolio-trading-using-pyportfolioopt-24040247249\n"
   ]
  },
  {
   "cell_type": "code",
   "execution_count": 61,
   "metadata": {
    "scrolled": true
   },
   "outputs": [],
   "source": [
    "link = 'https://www.finance.yahoo.com/quote/AAPL/sustainability?p=AAPL'\n",
    "headers = {'user-agent': 'Mozilla/5.0 (Windows NT 10.0; Win64; x64) AppleWebKit/537.36 (KHTML, like Gecko) Chrome/95.0.4638.54 Safari/537.36 Edg/95.0.1020.30',}\n",
    "\n",
    "res = requests.get(link,headers=headers)\n",
    "soup_aapl = BeautifulSoup(res.content, 'html.parser')"
   ]
  },
  {
   "cell_type": "code",
   "execution_count": 20,
   "metadata": {
    "collapsed": true
   },
   "outputs": [
    {
     "name": "stdout",
     "output_type": "stream",
     "text": [
      "Asian shares rise as S&P 500 records longest win streak in two years\n",
      "Asian share markets rallied on Thursday and the dollar was weaker after most U.S stocks edged higher and the S&P 500 recorded its longest winning streak in two years, with investors on high alert for signs that global interest rates have peaked.  The yield on benchmark 10-year Treasury notes  reached 4.5059% compared with a U.S. close of 4.523% on Wednesday.  The two-year yield, which rises with traders' expectations of higher Fed fund rates, touched 4.932% compared with a U.S. close of 4.936%.\n",
      "http://www.finance.yahoo.com/news/asian-shares-rise-p-500-022710385.html\n",
      "\n",
      "BOJ may end negative rates in January, ex-central bank executive says\n",
      "The Bank of Japan may end its negative interest rate policy as early as January, and keep raising short-term borrowing costs if the economy can weather risks from overseas uncertainties, said former central bank executive Eiji Maeda.  The BOJ last month revised up its price estimates to project inflation to hit 1.9% in both fiscal 2024 and 2025, as measured by an index that strips away the effects of volatile fresh food and fuel costs.  The \"surprisingly big\" upgrade in the projections means inflation is already on course to sustainably hit the BOJ's 2% target, said Maeda, who is in close contact with policymakers.\n",
      "http://www.finance.yahoo.com/news/boj-may-end-negative-rates-022405564.html\n",
      "\n",
      "NEF Latest: Ken Griffin Warns on US Spending as Clinton to Speak\n",
      "(Bloomberg) -- Citadel founder Ken Griffin called for the US to rein in excess spending and warned the country could fall into recession at the New Economy Forum in Singapore, where former US Secretary of State Hillary Clinton and UBS Group AG Chief Executive Officer Sergio Ermotti will also speak today. Most Read from BloombergRockstar Plans to Announce Much Anticipated ‘Grand Theft Auto VI’US 30-Year Mortgage Rate Tumbles by Most in More Than a YearVIX Notches Its Longest Slide Since October 2\n",
      "http://www.finance.yahoo.com/news/nef-latest-future-shocks-focus-011312809.html\n",
      "\n",
      "UPDATE 1-Taiwan monitors Chinese carrier group in sensitive Taiwan Strait\n",
      "Taiwan's military has sent forces to keep watch on a Chinese naval formation led by the aircraft carrier Shandong sailing through the sensitive Taiwan Strait, Taiwan's defence ministry said on Thursday.  The Shandong participated in Chinese military drills around Taiwan in April, and again entered the Pacific last month.  The ministry said in a statement that the formation led by the Shandong entered the narrow Taiwan Strait on Wednesday afternoon sailing in a northerly direction but keeping to the Chinese side of the waterway's median line, an unofficial barrier between the two.\n",
      "http://www.finance.yahoo.com/news/1-taiwan-monitors-chinese-carrier-021636654.html\n",
      "\n",
      "Asia Shares Echo US Rally, China Prices Decline: Markets Wrap\n",
      "(Bloomberg) -- Stocks in Asia advanced after US equities hit their hottest winning streak in two years, as investors cling to hopes that interest rates have peaked. Meanwhile, China slid back into deflation.Most Read from BloombergRockstar Plans to Announce Much Anticipated ‘Grand Theft Auto VI’US 30-Year Mortgage Rate Tumbles by Most in More Than a YearVIX Notches Its Longest Slide Since October 2015: Markets WrapVirginia Democrats Fend Off Republican Sweep in Win for Abortion RightsXi to Meet\n",
      "http://www.finance.yahoo.com/news/asian-stocks-climb-p-500-224953785.html\n",
      "\n",
      "Oil Rises From Three-Month Low as Stocks Rally Eases Demand Woes\n",
      "(Bloomberg) -- Oil rose along with broader financial markets after plunging almost 7% over the previous two sessions on signs the demand outlook is deteriorating.Most Read from BloombergRockstar Plans to Announce Much Anticipated ‘Grand Theft Auto VI’US 30-Year Mortgage Rate Tumbles by Most in More Than a YearVIX Notches Its Longest Slide Since October 2015: Markets WrapVirginia Democrats Fend Off Republican Sweep in Win for Abortion RightsXi to Meet US Business Leaders for Dinner in San Francis\n",
      "http://www.finance.yahoo.com/news/oil-holds-near-three-month-001612183.html\n",
      "\n",
      "China Slips Back Into Deflation as Recovery Remains Fragile\n",
      "(Bloomberg) -- China slid back into deflation in October, highlighting the country’s struggle with shoring up growth through domestic demand.Most Read from BloombergRockstar Plans to Announce Much Anticipated ‘Grand Theft Auto VI’US 30-Year Mortgage Rate Tumbles by Most in More Than a YearVIX Notches Its Longest Slide Since October 2015: Markets WrapVirginia Democrats Fend Off Republican Sweep in Win for Abortion RightsXi to Meet US Business Leaders for Dinner in San FranciscoConsumer prices fel\n",
      "http://www.finance.yahoo.com/news/china-slips-back-deflation-recovery-014838784.html\n",
      "\n",
      "Why the US Can’t Stop Iran’s Lucrative Oil Trade With China\n",
      "(Bloomberg) -- Washington’s hawks are demanding that President Joe Biden’s administration tighten US sanctions on Iran as punishment for its support of Hamas, the militant group behind the attacks that triggered the current conflict with Israel. Tehran, they argue, has been exporting more oil over recent months than it has in years.Most Read from BloombergRockstar Plans to Announce Much Anticipated ‘Grand Theft Auto VI’US 30-Year Mortgage Rate Tumbles by Most in More Than a YearVIX Notches Its L\n",
      "http://www.finance.yahoo.com/news/why-us-t-stop-iran-020643691.html\n",
      "\n",
      "WRAPUP 1-Fierce fighting in Gaza City; US says Palestinians must govern Gaza post-war\n",
      "Street battles raged in Gaza City with Hamas fighters using tunnels to ambush Israeli forces, as the United States said Palestinians must govern Gaza post-war, countering Israeli comments that it would control security indefinitely.  The Israeli military said its troops had advanced into the heart of Gaza City, Hamas' main bastion and the biggest city in the seaside enclave, while the Islamist group said its fighters had inflicted heavy losses.\n",
      "http://www.finance.yahoo.com/news/wrapup-1-fierce-fighting-gaza-020120951.html\n",
      "\n",
      "Ping An Sold Country Garden Stake, Has No Plans for Takeover\n",
      "(Bloomberg) -- Ping An Insurance (Group) Co. said it doesn’t hold any shares in Country Garden Holdings Co. and has no plans to acquire the distressed Chinese developer, refuting a report that sent the insurance giant’s stock tumbling on Wednesday.Most Read from BloombergRockstar Plans to Announce Much Anticipated ‘Grand Theft Auto VI’US 30-Year Mortgage Rate Tumbles by Most in More Than a YearVIX Notches Its Longest Slide Since October 2015: Markets WrapVirginia Democrats Fend Off Republican Sw\n",
      "http://www.finance.yahoo.com/news/ping-exited-country-garden-stake-103901256.html\n",
      "\n",
      "'We're looking at a downsized America': Kevin O'Leary warns any new house, car and lifestyle you enjoy will be significantly 'smaller' — here's what he means and how you can adjust\n",
      "None\n",
      "https://finance.yahoo.com/news/were-looking-downsized-america-kevin-173000997.html\n",
      "\n",
      "Virgin Galactic, Cava, Robinhood: Trending tickers\n",
      "None\n",
      "https://finance.yahoo.com/video/virgin-galactic-cava-robinhood-trending-222310634.html\n",
      "\n",
      "Elon Musk says AI will remove need for jobs and create ‘universal high income.’ But workers don’t want to wait for robots to get financial relief\n",
      "None\n",
      "https://finance.yahoo.com/news/elon-musk-says-ai-remove-131648247.html\n",
      "\n",
      "Robots will be your helper, not your adversary, says robotics firm CEO\n",
      "None\n",
      "https://finance.yahoo.com/news/robots-will-be-your-helper-not-your-adversary-says-robotics-firm-ceo-212151311.html\n",
      "\n",
      "Capri and Tapestry earnings, Powell comments: What to Watch\n",
      "None\n",
      "https://finance.yahoo.com/video/capri-tapestry-earnings-powell-comments-222137190.html\n",
      "\n",
      "SoCal housing is so unaffordable that billionaire philanthropist MacKenzie Scott has made yet another multi-million dollar donation to fix the problem\n",
      "None\n",
      "https://finance.yahoo.com/news/socal-housing-unaffordable-billionaire-philanthropist-220919182.html\n",
      "\n",
      "‘The goose lays more golden eggs every year’: Warren Buffett explains why capitalism isn’t working for young people today — and the simple way he’d solve it\n",
      "None\n",
      "https://finance.yahoo.com/news/goose-lays-more-golden-eggs-113000690.html\n",
      "\n",
      "Retired But Want To Work? Try These 8 Jobs for Seniors That Pay Weekly\n",
      "None\n",
      "https://finance.yahoo.com/news/retired-want-try-8-jobs-110022865.html\n",
      "\n",
      "Media execs aren't writing off legacy TV just yet. Here's why.\n",
      "None\n",
      "https://finance.yahoo.com/news/media-execs-arent-writing-off-legacy-tv-just-yet-heres-why-204751689.html\n",
      "\n",
      "Meta to require disclosures on AI-use in political ads\n",
      "None\n",
      "https://finance.yahoo.com/video/meta-require-disclosures-ai-political-221920749.html\n",
      "\n",
      "This Rare Bicentennial Quarter Has Nearly $20K Value — 7 More Worth Over $1,000\n",
      "None\n",
      "https://finance.yahoo.com/news/rare-bicentennial-quarter-nearly-20k-154916635.html\n",
      "\n",
      "Meredith Whitney: Housing prices are due for a fall starting in 2024\n",
      "None\n",
      "https://finance.yahoo.com/news/meredith-whitney-housing-prices-are-due-for-a-fall-starting-in-2024-100042234.html\n",
      "\n",
      "More oil supertankers than ever are headed for the US to load up on crude for export as OPEC+ curbs supply\n",
      "None\n",
      "https://finance.yahoo.com/news/more-oil-supertankers-ever-headed-041708994.html\n",
      "\n",
      "Citi fined $25.9M for discriminating against Armenian Americans after government probe\n",
      "None\n",
      "https://finance.yahoo.com/news/citi-fined-259m-for-discriminating-against-armenian-americans-after-government-probe-202005803.html\n",
      "\n",
      "Cleveland Fed's Mester to retire, Take-Two: Top Stories\n",
      "None\n",
      "https://finance.yahoo.com/video/cleveland-feds-mester-retire-two-221323111.html\n",
      "\n",
      "Her family bought half of the New York Giants 30 years ago. Now she’s leading their investment in New York women’s soccer team Gotham FC\n",
      "None\n",
      "https://finance.yahoo.com/news/her-family-bought-half-york-140930444.html\n",
      "\n"
     ]
    }
   ],
   "source": [
    "#headlines = soup.find_all('')\n",
    "for e in soup.select('div:has(>h3>a)'):\n",
    "    print(e.h3.text)\n",
    "    try:\n",
    "        print(e.p.text)\n",
    "    except:\n",
    "        print(None)\n",
    "    if e.a['href'].startswith('https://'):\n",
    "        print(e.a['href'])\n",
    "    else:\n",
    "        print('http://www.finance.yahoo.com'+e.a['href'])\n",
    "    print()"
   ]
  },
  {
   "cell_type": "code",
   "execution_count": 21,
   "metadata": {
    "scrolled": true
   },
   "outputs": [],
   "source": [
    "def dl_yh_news(link='https://www.finance.yahoo.com/news'):\n",
    "    res = requests.get(link)\n",
    "    soup = BeautifulSoup(res.content, 'html.parser')\n",
    "    news = []\n",
    "    for e in soup.select('div:has(>h3>a)'):\n",
    "        try: # Some may not contain content\n",
    "            text = e.p.text\n",
    "        except:\n",
    "            text = ' '\n",
    "        if e.a['href'].startswith('https://'):\n",
    "            link = e.a['href']\n",
    "        else:\n",
    "            link = 'http://www.finance.yahoo.com' + e.a['href']\n",
    "\n",
    "        news.append((e.h3.text, link, text))\n",
    "    return pd.DataFrame(news, columns=['title', 'link', 'desc'])"
   ]
  },
  {
   "cell_type": "code",
   "execution_count": 25,
   "metadata": {},
   "outputs": [],
   "source": [
    "temp = dl_yh_news('https://www.finance.yahoo.com/quote/AAPL?p=AAPL&.tsrc=fin-srch')\n"
   ]
  },
  {
   "cell_type": "code",
   "execution_count": 25,
   "metadata": {},
   "outputs": [],
   "source": [
    "def dl_stock_data(tickers, period=None, interval='1d', start=\"2021-01-01\", end=date.today(), col='Adj Close'):\n",
    "    if period:\n",
    "        stock_data = yf.download(tickers, period=period, interval=interval)\n",
    "    else:\n",
    "        stock_data = yf.download(tickers, interval=interval, start=start, end=end)\n",
    "    if stock_data.empty:\n",
    "        raise Exception('Empty Dataframe')\n",
    "    if col in ['Open', 'High', 'Low', 'Close', 'Adj Close', 'Volume']:\n",
    "        stock_data = stock_data[col]\n",
    "    else:\n",
    "        raise NameError('Invalid Column Name')\n",
    "    return stock_data"
   ]
  },
  {
   "cell_type": "code",
   "execution_count": 91,
   "metadata": {},
   "outputs": [],
   "source": [
    "def test_ef():\n",
    "    companies = [\"MSFT\", \"AMZN\", \"META\", \"BABA\", \"GE\", \"GOOG\", \"AMD\", \"WMT\", \"BAC\", \"GM\", \"T\", \"UAA\", \"MA\", \"PFE\", \"JPM\", \"SBUX\"]\n",
    "    stock_data = yf.download(companies, start=\"2020-6-01\", end=date.today())\n",
    "    stock_data = stock_data[\"Adj Close\"]\n",
    "    mu2 = expected_returns.mean_historical_return(stock_data)\n",
    "    cov_matrix2 = risk_models.sample_cov(stock_data)\n",
    "    temp_ef = EfficientFrontier(mu2, cov_matrix2)\n",
    "    return temp_ef, cov_matrix2"
   ]
  },
  {
   "cell_type": "code",
   "execution_count": 72,
   "metadata": {},
   "outputs": [],
   "source": [
    "companies = [\"MSFT\", \"AMZN\", \"META\", \"BABA\", \"GE\", \"GOOG\", \"AMD\", \"WMT\", \"BAC\", \"GM\", \"T\", \"UAA\", \"MA\", \"PFE\", \"JPM\", \"SBUX\"]"
   ]
  },
  {
   "cell_type": "code",
   "execution_count": 73,
   "metadata": {},
   "outputs": [
    {
     "name": "stdout",
     "output_type": "stream",
     "text": [
      "[*********************100%%**********************]  16 of 16 completed\n"
     ]
    }
   ],
   "source": [
    "stock_data = yf.download(companies, start=\"2020-6-01\", end=date.today())"
   ]
  },
  {
   "cell_type": "code",
   "execution_count": 38,
   "metadata": {
    "scrolled": true
   },
   "outputs": [
    {
     "name": "stdout",
     "output_type": "stream",
     "text": [
      "[*********************100%%**********************]  1 of 1 completed\n"
     ]
    }
   ],
   "source": [
    "\n",
    "stock_data = dl_stock_data('MSFT', interval='1m', start='2023-11-10', end='2023-11-11')\n"
   ]
  },
  {
   "cell_type": "code",
   "execution_count": 39,
   "metadata": {},
   "outputs": [
    {
     "data": {
      "text/plain": [
       "Datetime\n",
       "2023-11-10 09:30:00-05:00    361.220001\n",
       "2023-11-10 09:31:00-05:00    362.279999\n",
       "2023-11-10 09:32:00-05:00    361.859985\n",
       "2023-11-10 09:33:00-05:00    362.119995\n",
       "2023-11-10 09:34:00-05:00    362.059998\n",
       "                                ...    \n",
       "2023-11-10 15:55:00-05:00    369.450012\n",
       "2023-11-10 15:56:00-05:00    369.595001\n",
       "2023-11-10 15:57:00-05:00    369.589996\n",
       "2023-11-10 15:58:00-05:00    369.519989\n",
       "2023-11-10 15:59:00-05:00    369.519989\n",
       "Name: Adj Close, Length: 390, dtype: float64"
      ]
     },
     "execution_count": 39,
     "metadata": {},
     "output_type": "execute_result"
    }
   ],
   "source": [
    "stock_data"
   ]
  },
  {
   "cell_type": "code",
   "execution_count": 10,
   "metadata": {},
   "outputs": [
    {
     "data": {
      "text/plain": [
       "DatetimeIndex(['2023-11-09 09:30:00-05:00', '2023-11-09 09:31:00-05:00',\n",
       "               '2023-11-09 09:33:00-05:00', '2023-11-09 09:34:00-05:00',\n",
       "               '2023-11-09 09:35:00-05:00', '2023-11-09 09:36:00-05:00',\n",
       "               '2023-11-09 09:37:00-05:00', '2023-11-09 09:38:00-05:00',\n",
       "               '2023-11-09 09:39:00-05:00', '2023-11-09 09:40:00-05:00',\n",
       "               ...\n",
       "               '2023-11-09 15:50:00-05:00', '2023-11-09 15:51:00-05:00',\n",
       "               '2023-11-09 15:52:00-05:00', '2023-11-09 15:53:00-05:00',\n",
       "               '2023-11-09 15:54:00-05:00', '2023-11-09 15:55:00-05:00',\n",
       "               '2023-11-09 15:56:00-05:00', '2023-11-09 15:57:00-05:00',\n",
       "               '2023-11-09 15:58:00-05:00', '2023-11-09 15:59:00-05:00'],\n",
       "              dtype='datetime64[ns, America/New_York]', name='Datetime', length=389, freq=None)"
      ]
     },
     "execution_count": 10,
     "metadata": {},
     "output_type": "execute_result"
    }
   ],
   "source": [
    "stock_data.index"
   ]
  },
  {
   "cell_type": "code",
   "execution_count": 75,
   "metadata": {
    "collapsed": true
   },
   "outputs": [
    {
     "name": "stdout",
     "output_type": "stream",
     "text": [
      "AMD     0.243754\n",
      "AMZN    0.041449\n",
      "BABA   -0.228011\n",
      "BAC     0.062945\n",
      "GE      0.339625\n",
      "GM      0.010243\n",
      "GOOG    0.197930\n",
      "JPM     0.152364\n",
      "MA      0.083607\n",
      "META    0.097883\n",
      "MSFT    0.231314\n",
      "PFE     0.009823\n",
      "SBUX    0.107653\n",
      "T      -0.034624\n",
      "UAA    -0.062359\n",
      "WMT     0.101401\n",
      "dtype: float64\n"
     ]
    }
   ],
   "source": [
    "mu2 = expected_returns.mean_historical_return(stock_data)\n",
    "print(mu2)"
   ]
  },
  {
   "cell_type": "code",
   "execution_count": null,
   "metadata": {},
   "outputs": [],
   "source": [
    "stock_data.pct_change()[1:].cumsum().plot()"
   ]
  },
  {
   "cell_type": "code",
   "execution_count": 76,
   "metadata": {
    "collapsed": true
   },
   "outputs": [
    {
     "name": "stdout",
     "output_type": "stream",
     "text": [
      "           AMD      AMZN      BABA       BAC        GE        GM      GOOG  \\\n",
      "AMD   0.267531  0.108509  0.081915  0.039567  0.039597  0.061529  0.089403   \n",
      "AMZN  0.108509  0.141471  0.062158  0.029404  0.027314  0.042156  0.079067   \n",
      "BABA  0.081915  0.062158  0.291785  0.034496  0.034704  0.056680  0.051175   \n",
      "BAC   0.039567  0.029404  0.034496  0.095417  0.060452  0.069112  0.031498   \n",
      "GE    0.039597  0.027314  0.034704  0.060452  0.120690  0.071726  0.029609   \n",
      "GM    0.061529  0.042156  0.056680  0.069112  0.071726  0.158003  0.044796   \n",
      "GOOG  0.089403  0.079067  0.051175  0.031498  0.029609  0.044796  0.099125   \n",
      "JPM   0.031942  0.023661  0.029878  0.073979  0.054796  0.059918  0.027734   \n",
      "MA    0.060946  0.047634  0.044574  0.040691  0.043116  0.049583  0.046374   \n",
      "META  0.117005  0.105812  0.083757  0.034769  0.033437  0.051249  0.094946   \n",
      "MSFT  0.088450  0.073640  0.043050  0.023468  0.021779  0.035425  0.065799   \n",
      "PFE   0.015556  0.010644  0.002565  0.018434  0.014763  0.016949  0.014532   \n",
      "SBUX  0.058939  0.045690  0.048360  0.039649  0.038964  0.048603  0.039836   \n",
      "T     0.009268  0.013395  0.017637  0.029686  0.030173  0.029818  0.013362   \n",
      "UAA   0.090113  0.061036  0.067206  0.074658  0.079234  0.098189  0.061442   \n",
      "WMT   0.018536  0.019090  0.005699  0.010570  0.008730  0.015348  0.016653   \n",
      "\n",
      "           JPM        MA      META      MSFT       PFE      SBUX         T  \\\n",
      "AMD   0.031942  0.060946  0.117005  0.088450  0.015556  0.058939  0.009268   \n",
      "AMZN  0.023661  0.047634  0.105812  0.073640  0.010644  0.045690  0.013395   \n",
      "BABA  0.029878  0.044574  0.083757  0.043050  0.002565  0.048360  0.017637   \n",
      "BAC   0.073979  0.040691  0.034769  0.023468  0.018434  0.039649  0.029686   \n",
      "GE    0.054796  0.043116  0.033437  0.021779  0.014763  0.038964  0.030173   \n",
      "GM    0.059918  0.049583  0.051249  0.035425  0.016949  0.048603  0.029818   \n",
      "GOOG  0.027734  0.046374  0.094946  0.065799  0.014532  0.039836  0.013362   \n",
      "JPM   0.074133  0.038229  0.029762  0.020413  0.016995  0.036410  0.024948   \n",
      "MA    0.038229  0.080124  0.054924  0.044554  0.017539  0.044119  0.020707   \n",
      "META  0.029762  0.054924  0.216782  0.078184  0.016057  0.051487  0.016780   \n",
      "MSFT  0.020413  0.044554  0.078184  0.082095  0.014213  0.036877  0.007715   \n",
      "PFE   0.016995  0.017539  0.016057  0.014213  0.066055  0.015055  0.014398   \n",
      "SBUX  0.036410  0.044119  0.051487  0.036877  0.015055  0.079381  0.017379   \n",
      "T     0.024948  0.020707  0.016780  0.007715  0.014398  0.017379  0.060349   \n",
      "UAA   0.063766  0.056141  0.070349  0.046291  0.016792  0.063797  0.029360   \n",
      "WMT   0.009058  0.011498  0.016683  0.016299  0.007201  0.013640  0.007880   \n",
      "\n",
      "           UAA       WMT  \n",
      "AMD   0.090113  0.018536  \n",
      "AMZN  0.061036  0.019090  \n",
      "BABA  0.067206  0.005699  \n",
      "BAC   0.074658  0.010570  \n",
      "GE    0.079234  0.008730  \n",
      "GM    0.098189  0.015348  \n",
      "GOOG  0.061442  0.016653  \n",
      "JPM   0.063766  0.009058  \n",
      "MA    0.056141  0.011498  \n",
      "META  0.070349  0.016683  \n",
      "MSFT  0.046291  0.016299  \n",
      "PFE   0.016792  0.007201  \n",
      "SBUX  0.063797  0.013640  \n",
      "T     0.029360  0.007880  \n",
      "UAA   0.252800  0.019358  \n",
      "WMT   0.019358  0.041083  \n"
     ]
    },
    {
     "data": {
      "text/plain": [
       "pandas.core.frame.DataFrame"
      ]
     },
     "execution_count": 76,
     "metadata": {},
     "output_type": "execute_result"
    }
   ],
   "source": [
    "cov_matrix2 = risk_models.sample_cov(stock_data)\n",
    "print(cov_matrix2)\n",
    "type(cov_matrix2)"
   ]
  },
  {
   "cell_type": "code",
   "execution_count": 98,
   "metadata": {},
   "outputs": [
    {
     "name": "stdout",
     "output_type": "stream",
     "text": [
      "[*********************100%%**********************]  1 of 1 completed\n"
     ]
    },
    {
     "data": {
      "text/plain": [
       "Date\n",
       "2023-11-07    181.820007\n",
       "2023-11-08    182.889999\n",
       "Name: Adj Close, dtype: float64"
      ]
     },
     "execution_count": 98,
     "metadata": {},
     "output_type": "execute_result"
    }
   ],
   "source": [
    "stock = dl_stock_data('AAPL', period='2d')\n",
    "stock"
   ]
  },
  {
   "cell_type": "code",
   "execution_count": 101,
   "metadata": {},
   "outputs": [
    {
     "data": {
      "text/plain": [
       "182.88999938964844"
      ]
     },
     "execution_count": 101,
     "metadata": {},
     "output_type": "execute_result"
    }
   ],
   "source": [
    "stock[-1]"
   ]
  },
  {
   "cell_type": "code",
   "execution_count": 103,
   "metadata": {},
   "outputs": [
    {
     "name": "stdout",
     "output_type": "stream",
     "text": [
      "[*********************100%%**********************]  1 of 1 completed\n"
     ]
    },
    {
     "data": {
      "text/plain": [
       "Datetime\n",
       "2023-11-08 09:30:00-05:00    182.410004\n",
       "2023-11-08 09:31:00-05:00    182.820007\n",
       "2023-11-08 09:32:00-05:00    183.199997\n",
       "2023-11-08 09:33:00-05:00    183.210007\n",
       "2023-11-08 09:34:00-05:00    183.210007\n",
       "                                ...    \n",
       "2023-11-08 15:55:00-05:00    182.949997\n",
       "2023-11-08 15:56:00-05:00    182.865005\n",
       "2023-11-08 15:57:00-05:00    182.904999\n",
       "2023-11-08 15:58:00-05:00    182.914993\n",
       "2023-11-08 15:59:00-05:00    182.889999\n",
       "Name: Adj Close, Length: 390, dtype: float64"
      ]
     },
     "execution_count": 103,
     "metadata": {},
     "output_type": "execute_result"
    }
   ],
   "source": [
    "stock_adj_close = dl_stock_data('AAPL', interval='1m', period='1d')\n",
    "stock_adj_close"
   ]
  },
  {
   "cell_type": "code",
   "execution_count": null,
   "metadata": {},
   "outputs": [],
   "source": []
  },
  {
   "cell_type": "code",
   "execution_count": null,
   "metadata": {
    "scrolled": true
   },
   "outputs": [],
   "source": [
    "plotting.plot_covariance(cov_matrix2, plot_correlation=True)"
   ]
  },
  {
   "cell_type": "code",
   "execution_count": 77,
   "metadata": {
    "collapsed": true
   },
   "outputs": [
    {
     "data": {
      "text/plain": [
       "OrderedDict([('AMD', 0.0),\n",
       "             ('AMZN', 0.0),\n",
       "             ('BABA', 0.0),\n",
       "             ('BAC', 0.0),\n",
       "             ('GE', 0.4656654703784261),\n",
       "             ('GM', 0.0),\n",
       "             ('GOOG', 0.0),\n",
       "             ('JPM', 0.0),\n",
       "             ('MA', 0.0),\n",
       "             ('META', 0.0),\n",
       "             ('MSFT', 0.3741437681734606),\n",
       "             ('PFE', 0.0),\n",
       "             ('SBUX', 0.0),\n",
       "             ('T', 0.0),\n",
       "             ('UAA', 0.0),\n",
       "             ('WMT', 0.1601907614481134)])"
      ]
     },
     "execution_count": 77,
     "metadata": {},
     "output_type": "execute_result"
    }
   ],
   "source": [
    "ef = EfficientFrontier(mu2, cov_matrix2)\n",
    "ef.max_sharpe()"
   ]
  },
  {
   "cell_type": "code",
   "execution_count": 78,
   "metadata": {
    "collapsed": true
   },
   "outputs": [
    {
     "data": {
      "text/plain": [
       "<Axes: >"
      ]
     },
     "execution_count": 78,
     "metadata": {},
     "output_type": "execute_result"
    },
    {
     "data": {
      "image/png": "[encoded data removed]",
      "text/plain": [
       "<Figure size 1000x600 with 1 Axes>"
      ]
     },
     "metadata": {},
     "output_type": "display_data"
    }
   ],
   "source": [
    "weights = ef.clean_weights()\n",
    "pd.Series(weights).plot.pie()"
   ]
  },
  {
   "cell_type": "code",
   "execution_count": 93,
   "metadata": {},
   "outputs": [],
   "source": [
    "def get_weights(input_ef):\n",
    "    ef1 = input_ef.deepcopy()\n",
    "    ef1.max_sharpe()\n",
    "    weights = ef1.clean_weights()\n",
    "    df1 = pd.DataFrame(weights, index=['Weight'])\n",
    "    df1 = df1.T\n",
    "    df1 = df1[df1['Weight'] != 0]  # Remove 0 values\n",
    "    return df1"
   ]
  },
  {
   "cell_type": "code",
   "execution_count": 94,
   "metadata": {},
   "outputs": [],
   "source": [
    "df_weights = get_weights(ef.deepcopy())"
   ]
  },
  {
   "cell_type": "code",
   "execution_count": 96,
   "metadata": {},
   "outputs": [
    {
     "name": "stdout",
     "output_type": "stream",
     "text": [
      "[*********************100%%**********************]  16 of 16 completed\n"
     ]
    }
   ],
   "source": [
    "ef, cov_matrix = test_ef()"
   ]
  },
  {
   "cell_type": "code",
   "execution_count": 95,
   "metadata": {},
   "outputs": [
    {
     "data": {
      "text/html": [
       "<div>\n",
       "<style scoped>\n",
       "    .dataframe tbody tr th:only-of-type {\n",
       "        vertical-align: middle;\n",
       "    }\n",
       "\n",
       "    .dataframe tbody tr th {\n",
       "        vertical-align: top;\n",
       "    }\n",
       "\n",
       "    .dataframe thead th {\n",
       "        text-align: right;\n",
       "    }\n",
       "</style>\n",
       "<table border=\"1\" class=\"dataframe\">\n",
       "  <thead>\n",
       "    <tr style=\"text-align: right;\">\n",
       "      <th></th>\n",
       "      <th>Weight</th>\n",
       "    </tr>\n",
       "  </thead>\n",
       "  <tbody>\n",
       "    <tr>\n",
       "      <th>GE</th>\n",
       "      <td>0.46567</td>\n",
       "    </tr>\n",
       "    <tr>\n",
       "      <th>MSFT</th>\n",
       "      <td>0.37414</td>\n",
       "    </tr>\n",
       "    <tr>\n",
       "      <th>WMT</th>\n",
       "      <td>0.16019</td>\n",
       "    </tr>\n",
       "  </tbody>\n",
       "</table>\n",
       "</div>"
      ],
      "text/plain": [
       "       Weight\n",
       "GE    0.46567\n",
       "MSFT  0.37414\n",
       "WMT   0.16019"
      ]
     },
     "execution_count": 95,
     "metadata": {},
     "output_type": "execute_result"
    }
   ],
   "source": [
    "df_weights"
   ]
  },
  {
   "cell_type": "code",
   "execution_count": 97,
   "metadata": {},
   "outputs": [
    {
     "data": {
      "text/plain": [
       "'28.71'"
      ]
     },
     "execution_count": 97,
     "metadata": {},
     "output_type": "execute_result"
    }
   ],
   "source": [
    "str(round(weighted_esg(df_weights), 2))"
   ]
  },
  {
   "cell_type": "code",
   "execution_count": 87,
   "metadata": {},
   "outputs": [],
   "source": [
    "def get_esg_score(ticker):\n",
    "    link = f'https://www.finance.yahoo.com/quote/{ticker}/sustainability?p={ticker}'\n",
    "    headers = {\n",
    "        'user-agent': 'Mozilla/5.0 (Windows NT 10.0; Win64; x64) AppleWebKit/537.36 (KHTML, like Gecko) '\n",
    "                      'Chrome/95.0.4638.54 Safari/537.36 Edg/95.0.1020.30', }\n",
    "    res = requests.get(link, headers=headers)\n",
    "    soup = BeautifulSoup(res.content, 'html.parser')\n",
    "\n",
    "    score = soup.find('div', {'class': 'Fz(36px) Fw(600) D(ib) Mend(5px)'}).text\n",
    "    risk = soup.find('div', {'class': 'Fz(s) Fw(500) smartphone_Pstart(4px)'}).text\n",
    "    return score, risk\n",
    "\n",
    "\n",
    "def weighted_esg(df):\n",
    "    sum = 0\n",
    "    for index, row in df.iterrows():\n",
    "        score, _ = get_esg_score(index)\n",
    "        sum += float(score) * row['Weight']\n",
    "    return sum"
   ]
  },
  {
   "cell_type": "code",
   "execution_count": 88,
   "metadata": {},
   "outputs": [
    {
     "name": "stdout",
     "output_type": "stream",
     "text": [
      "28.709319999999998\n"
     ]
    }
   ],
   "source": [
    "score = weighted_esg(df1)\n",
    "print(score)"
   ]
  },
  {
   "cell_type": "code",
   "execution_count": null,
   "metadata": {},
   "outputs": [],
   "source": []
  },
  {
   "cell_type": "code",
   "execution_count": null,
   "metadata": {},
   "outputs": [],
   "source": [
    "def plot_weights(ef):\n",
    "    ef.max_sharpe()\n",
    "    weights = ef.clean_weights()\n",
    "    df = pd.DataFrame(weights,index=['Weight'])\n",
    "    df = df.T\n",
    "    df = df[df['Weight']!=0] # Remove 0 values\n",
    "    fig = px.pie(df,values='Weight',names=df.index)\n",
    "    return fig"
   ]
  },
  {
   "cell_type": "code",
   "execution_count": null,
   "metadata": {},
   "outputs": [],
   "source": [
    "plot_weights(ef2)"
   ]
  },
  {
   "cell_type": "code",
   "execution_count": 9,
   "metadata": {},
   "outputs": [
    {
     "name": "stdout",
     "output_type": "stream",
     "text": [
      "Expected annual return: 25.4%\n",
      "Annual volatility: 22.1%\n",
      "Sharpe Ratio: 1.06\n"
     ]
    },
    {
     "data": {
      "text/plain": [
       "(0.2535719095254672, 0.2205031405726748, 1.0592679492856707)"
      ]
     },
     "execution_count": 9,
     "metadata": {},
     "output_type": "execute_result"
    }
   ],
   "source": [
    "ef.max_sharpe()\n",
    "ef.portfolio_performance(verbose=True)"
   ]
  },
  {
   "cell_type": "code",
   "execution_count": null,
   "metadata": {},
   "outputs": [],
   "source": [
    "ef = EfficientFrontier(mu2, cov_matrix2, weight_bounds=(None, None))\n",
    "\n",
    "fig, ax = plt.subplots()\n",
    "plotting.plot_efficient_frontier(ef, ax=ax, show_assets=True)\n",
    "plt.show()"
   ]
  },
  {
   "cell_type": "code",
   "execution_count": null,
   "metadata": {},
   "outputs": [],
   "source": [
    "ef = EfficientFrontier(mu2, cov_matrix2, weight_bounds=(None, None))\n",
    "fig, ax = plt.subplots()\n",
    "ef_max_sharpe = ef.deepcopy()\n",
    "\n",
    "\n",
    "# Find the tangency portfolio\n",
    "ef_max_sharpe.max_sharpe()\n",
    "ret_tangent, std_tangent, _ = ef_max_sharpe.portfolio_performance()\n",
    "ax.scatter(std_tangent, ret_tangent, marker=\"*\", s=100, c=\"r\", label=\"Max Sharpe\")\n",
    "\n",
    "# Min Volatility\n",
    "ef_min_vol = ef.deepcopy()\n",
    "ef_min_vol.min_volatility()\n",
    "vol_ret, vol_std, _ = ef_min_vol.portfolio_performance()\n",
    "ax.scatter(vol_std, vol_ret, marker=\"*\", s=100, c=\"g\", label=\"Min Volatility\")\n",
    "\n",
    "plotting.plot_efficient_frontier(ef, ax=ax, show_assets=False)\n",
    "\n",
    "# Generate random portfolios\n",
    "n_samples = 10000\n",
    "w = np.random.dirichlet(np.ones(ef.n_assets), n_samples)\n",
    "rets = w.dot(ef.expected_returns)\n",
    "stds = np.sqrt(np.diag(w @ ef.cov_matrix @ w.T))\n",
    "sharpes = rets / stds\n",
    "ax.scatter(stds, rets, marker=\".\", c=sharpes, cmap=\"viridis_r\")\n",
    "\n",
    "# Output\n",
    "ax.set_title(\"Efficient Frontier with random portfolios\")\n",
    "ax.legend()\n",
    "plt.tight_layout()\n",
    "plt.show()"
   ]
  },
  {
   "cell_type": "code",
   "execution_count": null,
   "metadata": {},
   "outputs": [],
   "source": [
    "def plot_ef_line(\n",
    "    opt,\n",
    "    ef_param=\"return\",\n",
    "    ef_param_range=None,\n",
    "    points=100,\n",
    "    ax=None,\n",
    "    show_assets=True,\n",
    "    show_tickers=False,\n",
    "    **kwargs\n",
    "):\n",
    "\n",
    "    ax = ax or plt.gca()\n",
    "\n",
    "    if isinstance(opt, CLA):\n",
    "        ax = _plot_cla(\n",
    "            opt, points, ax=ax, show_assets=show_assets, show_tickers=show_tickers\n",
    "        )\n",
    "    elif isinstance(opt, EfficientFrontier):\n",
    "        if ef_param_range is None:\n",
    "            ef_param_range = _ef_default_returns_range(opt, points)\n",
    "\n",
    "        ax = _plot_ef(\n",
    "            opt,\n",
    "            ef_param,\n",
    "            ef_param_range,\n",
    "            ax=ax,\n",
    "            show_assets=show_assets,\n",
    "            show_tickers=show_tickers,\n",
    "        )\n",
    "    else:\n",
    "        raise NotImplementedError(\"Please pass EfficientFrontier or CLA object\")\n",
    "\n",
    "    ax.legend()\n",
    "    ax.set_xlabel(\"Volatility\")\n",
    "    ax.set_ylabel(\"Return\")\n",
    "\n",
    "    _plot_io(**kwargs)\n",
    "    return ax\n"
   ]
  },
  {
   "cell_type": "code",
   "execution_count": null,
   "metadata": {},
   "outputs": [],
   "source": [
    "def _plot_ef(ef, ef_param='return', ef_param_range, ax, show_tickers):\n",
    "    \"\"\"\n",
    "    Helper function to plot the efficient frontier from an EfficientFrontier object\n",
    "    \"\"\"\n",
    "    mus, sigmas = [], []\n",
    "\n",
    "    # Create a portfolio for each value of ef_param_range\n",
    "    for param_value in ef_param_range:\n",
    "        try:\n",
    "            if ef_param == \"utility\":\n",
    "                ef.max_quadratic_utility(param_value)\n",
    "            elif ef_param == \"risk\":\n",
    "                ef.efficient_risk(param_value)\n",
    "            elif ef_param == \"return\":\n",
    "                ef.efficient_return(param_value)\n",
    "            else:\n",
    "                raise NotImplementedError(\n",
    "                    \"ef_param should be one of {'utility', 'risk', 'return'}\"\n",
    "                )\n",
    "        except exceptions.OptimizationError:\n",
    "            continue\n",
    "        except ValueError:\n",
    "            warnings.warn(\n",
    "                \"Could not construct portfolio for parameter value {:.3f}\".format(\n",
    "                    param_value\n",
    "                )\n",
    "            )\n",
    "\n",
    "        ret, sigma, _ = ef.portfolio_performance()\n",
    "        mus.append(ret)\n",
    "        sigmas.append(sigma)\n",
    "\n",
    "    ax.plot(sigmas, mus, label=\"Efficient frontier\")\n",
    "\n",
    "    asset_mu = ef.expected_returns\n",
    "    asset_sigma = np.sqrt(np.diag(ef.cov_matrix))\n",
    "    \n",
    "    return ax"
   ]
  },
  {
   "cell_type": "code",
   "execution_count": null,
   "metadata": {},
   "outputs": [],
   "source": [
    "ef = EfficientFrontier(mu2, cov_matrix2, weight_bounds=(None, None))\n",
    "\n",
    "\n",
    "def plot_ef_with_random(ef, n_samples=10000):\n",
    "    fig, ax = plt.subplots()\n",
    "    ef_max_sharpe = ef.deepcopy()\n",
    "    ef_min_vol = ef.deepcopy()\n",
    "\n",
    "    # Find the tangency portfolio\n",
    "    ef_max_sharpe.max_sharpe()\n",
    "    ret_tangent, std_tangent, _ = ef_max_sharpe.portfolio_performance()\n",
    "    ax.scatter(std_tangent, ret_tangent, marker=\"*\", s=100, c=\"r\", label=\"Max Sharpe\")\n",
    "\n",
    "    # Min Volatility\n",
    "    ef_min_vol.min_volatility()\n",
    "    vol_ret, vol_std, _ = ef_min_vol.portfolio_performance()\n",
    "    ax.scatter(vol_std, vol_ret, marker=\"*\", s=100, c=\"g\", label=\"Min Volatility\")\n",
    "\n",
    "\n",
    "    # Generate random portfolios\n",
    "    w = np.random.dirichlet(np.ones(ef.n_assets), n_samples)\n",
    "    rets = w.dot(ef.expected_returns)\n",
    "    stds = np.sqrt(np.diag(w @ ef.cov_matrix @ w.T))\n",
    "    sharpes = rets / stds\n",
    "    ax.scatter(stds, rets, marker=\".\", c=sharpes, cmap=\"viridis_r\")\n",
    "\n",
    "    # Output\n",
    "    plotting.plot_efficient_frontier(ef, ax=ax, show_assets=False)\n",
    "    ax.set_title(\"Efficient Frontier with random portfolios\")\n",
    "    ax.legend()\n",
    "    plt.tight_layout()\n",
    "    \n",
    "    st.pyplot(fig)"
   ]
  },
  {
   "cell_type": "code",
   "execution_count": 2,
   "metadata": {},
   "outputs": [],
   "source": [
    "def plot_ef_with_random(ef, output=None, n_samples=10000):\n",
    "    fig, ax = plt.subplots()\n",
    "    ef_max_sharpe = ef.deepcopy()\n",
    "    ef_min_vol = ef.deepcopy()\n",
    "\n",
    "    # Find the tangency portfolio\n",
    "    ef_max_sharpe.max_sharpe()\n",
    "    ret_tangent, std_tangent, _ = ef_max_sharpe.portfolio_performance()\n",
    "    ax.scatter(std_tangent, ret_tangent, marker=\"*\", s=100, c=\"r\", label=\"Max Sharpe\")\n",
    "\n",
    "    # Min Volatility\n",
    "    ef_min_vol.min_volatility()\n",
    "    vol_ret, vol_std, _ = ef_min_vol.portfolio_performance()\n",
    "    ax.scatter(vol_std, vol_ret, marker=\"*\", s=100, c=\"g\", label=\"Min Volatility\")\n",
    "\n",
    "\n",
    "    # Generate random portfolios\n",
    "    w = np.random.dirichlet(np.ones(ef.n_assets), n_samples)\n",
    "    rets = w.dot(ef.expected_returns)\n",
    "    stds = np.sqrt(np.diag(w @ ef.cov_matrix @ w.T))\n",
    "    sharpes = rets / stds\n",
    "    ax.scatter(stds, rets, marker=\".\", c=sharpes, cmap=\"viridis_r\")\n",
    "\n",
    "    # Output\n",
    "    plotting.plot_efficient_frontier(ef, ax=ax, show_assets=False)\n",
    "    ax.set_title(\"Efficient Frontier with random portfolios\")\n",
    "    ax.legend()\n",
    "    plt.tight_layout()\n",
    "    plt.show()"
   ]
  },
  {
   "cell_type": "code",
   "execution_count": 4,
   "metadata": {},
   "outputs": [],
   "source": [
    "def plot_weights(ef):\n",
    "    ef2 = ef.deepcopy()\n",
    "    ef2.max_sharpe()\n",
    "    weights = ef2.clean_weights()\n",
    "    df = pd.DataFrame(weights,index=['Weight'])\n",
    "    df = df.T\n",
    "    df = df[df['Weight']!=0] # Remove 0 values\n",
    "    fig = px.pie(df,values='Weight',names=df.index)\n",
    "    return fig"
   ]
  },
  {
   "cell_type": "code",
   "execution_count": 71,
   "metadata": {},
   "outputs": [
    {
     "name": "stdout",
     "output_type": "stream",
     "text": [
      "[*********************100%%**********************]  16 of 16 completed\n"
     ]
    }
   ],
   "source": [
    "ef_o = test_ef()\n",
    "ef = ef_o.deepcopy()"
   ]
  },
  {
   "cell_type": "code",
   "execution_count": null,
   "metadata": {},
   "outputs": [],
   "source": []
  }
 ],
 "metadata": {
  "kernelspec": {
   "display_name": "portfolio",
   "language": "python",
   "name": "portfolio"
  },
  "language_info": {
   "codemirror_mode": {
    "name": "ipython",
    "version": 3
   },
   "file_extension": ".py",
   "mimetype": "text/x-python",
   "name": "python",
   "nbconvert_exporter": "python",
   "pygments_lexer": "ipython3",
   "version": "3.8.18"
  }
 },
 "nbformat": 4,
 "nbformat_minor": 2
}
